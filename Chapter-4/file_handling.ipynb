{
 "cells": [
  {
   "cell_type": "code",
   "execution_count": 1,
   "metadata": {},
   "outputs": [],
   "source": [
    "import os\n",
    "list_of_dir = os.listdir('/Users/macbookpro/Desktop/AI SIBERIA/Computer Vision /Chapter-4/')"
   ]
  },
  {
   "cell_type": "code",
   "execution_count": 2,
   "metadata": {},
   "outputs": [
    {
     "data": {
      "text/plain": [
       "['image_augmentation.ipynb',\n",
       " '.DS_Store',\n",
       " 'visualizing_filters_learning.ipynb',\n",
       " 'file_handling.ipynb',\n",
       " 'batch_augmentation.ipynb',\n",
       " 'cnn_intro.ipynb',\n",
       " 'test_cnn.ipynb',\n",
       " 'data',\n",
       " 'cnn_on_fmnist.ipynb']"
      ]
     },
     "execution_count": 2,
     "metadata": {},
     "output_type": "execute_result"
    }
   ],
   "source": [
    "list_of_dir"
   ]
  },
  {
   "cell_type": "markdown",
   "metadata": {},
   "source": [
    "#### Listing files in a directory"
   ]
  },
  {
   "cell_type": "code",
   "execution_count": 3,
   "metadata": {},
   "outputs": [
    {
     "name": "stdout",
     "output_type": "stream",
     "text": [
      "image_augmentation.ipynb\n",
      ".DS_Store\n",
      "visualizing_filters_learning.ipynb\n",
      "file_handling.ipynb\n",
      "batch_augmentation.ipynb\n",
      "cnn_intro.ipynb\n",
      "test_cnn.ipynb\n",
      "cnn_on_fmnist.ipynb\n"
     ]
    }
   ],
   "source": [
    "basepath = '/Users/macbookpro/Desktop/AI SIBERIA/Computer Vision /Chapter-4/'\n",
    "entries = os.listdir(basepath)\n",
    "for entry in entries:\n",
    "    if os.path.isfile(os.path.join(basepath, entry)):\n",
    "        print(entry)"
   ]
  },
  {
   "cell_type": "code",
   "execution_count": 4,
   "metadata": {},
   "outputs": [
    {
     "name": "stdout",
     "output_type": "stream",
     "text": [
      "image_augmentation.ipynb\n",
      ".DS_Store\n",
      "visualizing_filters_learning.ipynb\n",
      "file_handling.ipynb\n",
      "batch_augmentation.ipynb\n",
      "cnn_intro.ipynb\n",
      "test_cnn.ipynb\n",
      "cnn_on_fmnist.ipynb\n"
     ]
    }
   ],
   "source": [
    "# use os.scandir()\n",
    "entries = os.scandir(basepath)\n",
    "for entry in entries:\n",
    "    if entry.is_file():\n",
    "        print(entry.name)"
   ]
  },
  {
   "cell_type": "code",
   "execution_count": null,
   "metadata": {},
   "outputs": [],
   "source": []
  }
 ],
 "metadata": {
  "kernelspec": {
   "display_name": ".venv",
   "language": "python",
   "name": "python3"
  },
  "language_info": {
   "codemirror_mode": {
    "name": "ipython",
    "version": 3
   },
   "file_extension": ".py",
   "mimetype": "text/x-python",
   "name": "python",
   "nbconvert_exporter": "python",
   "pygments_lexer": "ipython3",
   "version": "3.9.6"
  }
 },
 "nbformat": 4,
 "nbformat_minor": 2
}
